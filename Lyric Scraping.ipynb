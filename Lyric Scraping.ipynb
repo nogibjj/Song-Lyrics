{
 "cells": [
  {
   "cell_type": "code",
   "execution_count": 4,
   "metadata": {},
   "outputs": [],
   "source": [
    "import requests\n",
    "import re"
   ]
  },
  {
   "cell_type": "code",
   "execution_count": 5,
   "metadata": {},
   "outputs": [],
   "source": [
    "headers = {\n",
    "    'user-agent': 'Mozilla/5.0 (Windows NT 10.0; Win64; x64) AppleWebKit/537.36 (KHTML, like Gecko) Chrome/55.0.2883.87 Safari/537.36'}\n",
    "wiki = requests.get(\n",
    "    'https://en.wikipedia.org/wiki/List_of_one-hit_wonders_in_the_United_States', headers=headers)\n"
   ]
  },
  {
   "cell_type": "code",
   "execution_count": 6,
   "metadata": {},
   "outputs": [],
   "source": [
    "from bs4 import BeautifulSoup\n",
    "soup = BeautifulSoup(wiki.text, 'html.parser')\n"
   ]
  },
  {
   "cell_type": "code",
   "execution_count": 7,
   "metadata": {},
   "outputs": [],
   "source": [
    "import pandas as pd\n"
   ]
  },
  {
   "cell_type": "code",
   "execution_count": 8,
   "metadata": {},
   "outputs": [],
   "source": [
    "songhtml = soup.find_all('li')[14:580]\n",
    "songs = [dict(zip(['Artist', 'Song'], [eachItem.getText()\n",
    "              for eachItem in eachSong.find_all('a')[:2]])) for eachSong in songhtml]\n"
   ]
  },
  {
   "cell_type": "code",
   "execution_count": 9,
   "metadata": {},
   "outputs": [],
   "source": [
    "lyricSearch = requests.get(\n",
    "    f\"https://www.google.com/search?q={songs[35]['Artist']} {songs[35]['Song']} lyrics\", headers=headers)"
   ]
  },
  {
   "cell_type": "code",
   "execution_count": 10,
   "metadata": {},
   "outputs": [],
   "source": [
    "lyricSoup = BeautifulSoup(lyricSearch.text, 'html.parser')\n"
   ]
  },
  {
   "cell_type": "code",
   "execution_count": 23,
   "metadata": {},
   "outputs": [],
   "source": [
    "a = ''.join([eachPart.getText() for eachPart in lyricSoup.find_all(\"div\", {\"class\": \"BNeawe tAd8D AP7Wnd\"})])\n"
   ]
  },
  {
   "cell_type": "code",
   "execution_count": 31,
   "metadata": {},
   "outputs": [],
   "source": [
    "songtest = songs[1:4].copy()"
   ]
  },
  {
   "cell_type": "code",
   "execution_count": 32,
   "metadata": {},
   "outputs": [],
   "source": [
    "import time\n",
    "for eachSong in songtest:\n",
    "    lyricSearch = requests.get(\n",
    "    f\"https://www.google.com/search?q={eachSong['Artist']} {eachSong['Song']} lyrics\", headers=headers)\n",
    "    lyricSoup = BeautifulSoup(lyricSearch.text, 'html.parser')\n",
    "    eachSong['Lyrics'] = ''.join([eachPart.getText() for eachPart in lyricSoup.find_all(\"div\", {\"class\": \"BNeawe tAd8D AP7Wnd\"})][:-1])\n",
    "    time.sleep(.8)"
   ]
  },
  {
   "cell_type": "code",
   "execution_count": 33,
   "metadata": {},
   "outputs": [
    {
     "data": {
      "text/plain": [
       "[{'Artist': 'The Crows',\n",
       "  'Song': 'Gee',\n",
       "  'Lyrics': \"Do do-do do, do-do do, do-do  do-do-do\\nDo do-do do, do-do do, do-do  do-do-do\\nDo do-do do, do-do do, do-do  do-do-do do\\nLove that girl\\n\\nOh Gee, my oh Gee, well o-o Gee\\nWhy I love that girl, love that girl\\n\\nOh please, listen to me, hear-hear-hear my plea\\nWhy I love that girl\\n\\nHold me, Baby, squeeze me\\nNever let me goDo do-do do, do-do do, do-do  do-do-do\\nDo do-do do, do-do do, do-do  do-do-do\\nDo do-do do, do-do do, do-do  do-do-do do\\nLove that girl\\n\\nOh Gee, my oh Gee, well o-o Gee\\nWhy I love that girl, love that girl\\n\\nOh please, listen to me, hear-hear-hear my plea\\nWhy I love that girl\\n\\nHold me, Baby, squeeze me\\nNever let me goDo do-do do, do-do do, do-do  do-do-do\\nDo do-do do, do-do do, do-do  do-do-do\\nDo do-do do, do-do do, do-do  do-do-do do\\nLove that girl\\n\\nOh Gee, my oh Gee, well o-o Gee\\nWhy I love that girl, love that girl\\n\\nOh please, listen to me, hear-hear-hear my plea\\nWhy I love that girl\\n\\nHold me, Baby, squeeze me\\nNever let me go\\nI'm not takin' chances\\nBecause I love her, I love her so\\n\\nOh Gee, yes I love her, Yes I need her\\nWhy I love that girl, love that girl\\n\\nHold me, Baby, squeeze me\\nNever let me go\\nI'm not takin' chances\\nBecause I love her,  I love her so\\n\\nMy-my oh Gee, well o Gee, my-eye oh Gee\\nWhy I love that girl, love that girl\\n\\nOh please, listen to me, hear-ear my plea\\nWhy I love that girl, love that girl\\n\\nWhy I love that girlDo do-do do, do-do do, do-do  do-do-do\\nDo do-do do, do-do do, do-do  do-do-do\\nDo do-do do, do-do do, do-do  do-do-do do\\nLove that girl\\n\\nOh Gee, my oh Gee, well o-o Gee\\nWhy I love that girl, love that girl\\n\\nOh please, listen to me, hear-hear-hear my plea\\nWhy I love that girl\\n\\nHold me, Baby, squeeze me\\nNever let me go\\nI'm not takin' chances\\nBecause I love her, I love her so\\n\\nOh Gee, yes I love her, Yes I need her\\nWhy I love that girl, love that girl\\n\\nHold me, Baby, squeeze me\\nNever let me go\\nI'm not takin' chances\\nBecause I love her,  I love her so\\n\\nMy-my oh Gee, well o Gee, my-eye oh Gee\\nWhy I love that girl, love that girl\\n\\nOh please, listen to me, hear-ear my plea\\nWhy I love that girl, love that girl\\n\\nWhy I love that girl\"},\n",
       " {'Artist': 'Penguins',\n",
       "  'Song': 'Earth Angel',\n",
       "  'Lyrics': \"Earth Angel, earth angel\\nWill you be mine?\\nMy darling dear, love you all the time\\nI'm just a fool, A fool in love with you\\n\\nEarth Angel, earth angel\\nThe one I adore\\nLove you forever, and evermore\\nI'm just a fool, A fool in love with you\\n\\nI fell for you and I knew the vision of  your love, lovelinessEarth Angel, earth angel\\nWill you be mine?\\nMy darling dear, love you all the time\\nI'm just a fool, A fool in love with you\\n\\nEarth Angel, earth angel\\nThe one I adore\\nLove you forever, and evermore\\nI'm just a fool, A fool in love with you\\n\\nI fell for you and I knew the vision of  your love, lovelinessEarth Angel, earth angel\\nWill you be mine?\\nMy darling dear, love you all the time\\nI'm just a fool, A fool in love with you\\n\\nEarth Angel, earth angel\\nThe one I adore\\nLove you forever, and evermore\\nI'm just a fool, A fool in love with you\\n\\nI fell for you and I knew the vision of  your love, loveliness\\nI hoped and I prayed that someday\\nI'll be the vision of your hap-happiness\\n\\nOh oh Earth Angel, earth angel\\nPlease be mine\\nMy darling dear, love you all the time\\nI'm just a fool, A fool in love with you\\n\\nI fell for you and I knew the vision of your loveliness\\nI hoped and prayed that someday\\nThat I'll be the vision of your happiness\\n\\nEarth Angel, earth angel\\nPlease be mine\\nMy darling dear, love you all the time\\nI'm just a fool, A fool in love with youEarth Angel, earth angel\\nWill you be mine?\\nMy darling dear, love you all the time\\nI'm just a fool, A fool in love with you\\n\\nEarth Angel, earth angel\\nThe one I adore\\nLove you forever, and evermore\\nI'm just a fool, A fool in love with you\\n\\nI fell for you and I knew the vision of  your love, loveliness\\nI hoped and I prayed that someday\\nI'll be the vision of your hap-happiness\\n\\nOh oh Earth Angel, earth angel\\nPlease be mine\\nMy darling dear, love you all the time\\nI'm just a fool, A fool in love with you\\n\\nI fell for you and I knew the vision of your loveliness\\nI hoped and prayed that someday\\nThat I'll be the vision of your happiness\\n\\nEarth Angel, earth angel\\nPlease be mine\\nMy darling dear, love you all the time\\nI'm just a fool, A fool in love with you\"},\n",
       " {'Artist': 'The Chords',\n",
       "  'Song': 'Sh-Boom',\n",
       "  'Lyrics': \"Life could be a dream\\nLife could be a dream\\nDo-roo-do-do, sh-boom\\n\\nLife could be a dream\\nSh-boom, if I could take you to a paradise up above\\nIf you will tell me I'm the only one that you love\\nLife could be a dream, sweetheart, hello, hello again\\nSh-boom and hopin' we'll meet again, boom\\n\\nLife could be a dreamLife could be a dream\\nLife could be a dream\\nDo-roo-do-do, sh-boom\\n\\nLife could be a dream\\nSh-boom, if I could take you to a paradise up above\\nIf you will tell me I'm the only one that you love\\nLife could be a dream, sweetheart, hello, hello again\\nSh-boom and hopin' we'll meet again, boom\\n\\nLife could be a dreamLife could be a dream\\nLife could be a dream\\nDo-roo-do-do, sh-boom\\n\\nLife could be a dream\\nSh-boom, if I could take you to a paradise up above\\nIf you will tell me I'm the only one that you love\\nLife could be a dream, sweetheart, hello, hello again\\nSh-boom and hopin' we'll meet again, boom\\n\\nLife could be a dream\\nIf only all my precious plans would come true\\nIf you would let me spend my whole life loving you\\nLife could be a dream, sweetheart (do-roo-do-do, sh-boom)\\n\\nEvery time I look at you\\nSomething is on my mind\\nIf you do what I want you to\\nBaby, we could be so fine\\n\\nOh, life could be a dream\\nSh-boom, if I could take you to a paradise up above\\nSh-boom, and tell me, darling, I'm the only one that you love\\nLife could be a dream, sweetheart, hello, hello again\\nSh-boom and hopin' we'll meet again, boom\\n\\nOh, life could be a dream\\nLife could be a dream, sweetheart\\n\\nDo-roo-do-do, sh-boom\\nDo-roo-do-do, sh-boom\\nDo-roo-do-do, sh-boom\\nDo-roo-do-do, sh-boom\\nDo-roo-do-do, sh-boom\\nDo-roo-do-do, sh-boom\\nDo-roo-do-do, sh-boom\\n\\nWhoa, life could be a dream\\nSh-boom, if I could take you up to paradise up above\\nSh-boom, and tell me, darling, I'm the only one that you love\\nLife could be a dream, sweetheart, hello, hello again\\nSh-boom and hopin' we'll meet again, boom\\n\\nOh, life could be a dream\\nLife could be a dream\\nDo-roo-do-do, sh-boomLife could be a dream\\nLife could be a dream\\nDo-roo-do-do, sh-boom\\n\\nLife could be a dream\\nSh-boom, if I could take you to a paradise up above\\nIf you will tell me I'm the only one that you love\\nLife could be a dream, sweetheart, hello, hello again\\nSh-boom and hopin' we'll meet again, boom\\n\\nLife could be a dream\\nIf only all my precious plans would come true\\nIf you would let me spend my whole life loving you\\nLife could be a dream, sweetheart (do-roo-do-do, sh-boom)\\n\\nEvery time I look at you\\nSomething is on my mind\\nIf you do what I want you to\\nBaby, we could be so fine\\n\\nOh, life could be a dream\\nSh-boom, if I could take you to a paradise up above\\nSh-boom, and tell me, darling, I'm the only one that you love\\nLife could be a dream, sweetheart, hello, hello again\\nSh-boom and hopin' we'll meet again, boom\\n\\nOh, life could be a dream\\nLife could be a dream, sweetheart\\n\\nDo-roo-do-do, sh-boom\\nDo-roo-do-do, sh-boom\\nDo-roo-do-do, sh-boom\\nDo-roo-do-do, sh-boom\\nDo-roo-do-do, sh-boom\\nDo-roo-do-do, sh-boom\\nDo-roo-do-do, sh-boom\\n\\nWhoa, life could be a dream\\nSh-boom, if I could take you up to paradise up above\\nSh-boom, and tell me, darling, I'm the only one that you love\\nLife could be a dream, sweetheart, hello, hello again\\nSh-boom and hopin' we'll meet again, boom\\n\\nOh, life could be a dream\\nLife could be a dream\\nDo-roo-do-do, sh-boom\"}]"
      ]
     },
     "execution_count": 33,
     "metadata": {},
     "output_type": "execute_result"
    }
   ],
   "source": [
    "songtest"
   ]
  },
  {
   "cell_type": "code",
   "execution_count": null,
   "metadata": {},
   "outputs": [],
   "source": []
  }
 ],
 "metadata": {
  "kernelspec": {
   "display_name": "Python 3.10.4 64-bit",
   "language": "python",
   "name": "python3"
  },
  "language_info": {
   "codemirror_mode": {
    "name": "ipython",
    "version": 3
   },
   "file_extension": ".py",
   "mimetype": "text/x-python",
   "name": "python",
   "nbconvert_exporter": "python",
   "pygments_lexer": "ipython3",
   "version": "3.10.4"
  },
  "orig_nbformat": 4,
  "vscode": {
   "interpreter": {
    "hash": "3ad933181bd8a04b432d3370b9dc3b0662ad032c4dfaa4e4f1596c548f763858"
   }
  }
 },
 "nbformat": 4,
 "nbformat_minor": 2
}
