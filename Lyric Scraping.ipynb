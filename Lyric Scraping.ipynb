{
 "cells": [
  {
   "cell_type": "code",
   "execution_count": 8,
   "metadata": {},
   "outputs": [],
   "source": [
    "import requests\n",
    "import re"
   ]
  },
  {
   "cell_type": "code",
   "execution_count": 36,
   "metadata": {},
   "outputs": [
    {
     "name": "stdout",
     "output_type": "stream",
     "text": [
      "{'User-Agent': 'Mozilla/5.0 (Windows NT 10.0; Win64; x64) AppleWebKit/537.36 (KHTML, like Gecko) Chrome/83.0.4103.97 Safari/537.36'}\n",
      "<class 'requests.models.Response'> <class 'int'>\n"
     ]
    }
   ],
   "source": [
    "headers = {\n",
    "\"Accept\": \"text/html,application/xhtml+xml,application/xml;q=0.9,image/webp,image/apng,*/*;q=0.8,application/signed-exchange;v=b3;q=0.9\", \n",
    "\"Accept-Encoding\": \"gzip, deflate\", \n",
    "\"Accept-Language\": \"en-GB,en-US;q=0.9,en;q=0.8\", \n",
    "\"Dnt\": \"1\", \n",
    "\"Host\": \"httpbin.org\", \n",
    "\"Upgrade-Insecure-Requests\": \"1\", \n",
    "\"User-Agent\": \"Mozilla/5.0 (Macintosh; Intel Mac OS X 10_15_4) AppleWebKit/537.36 (KHTML, like Gecko) Chrome/83.0.4103.97 Safari/537.36\", \n",
    "}\n",
    "import random\n",
    "user_agent_list = [\n",
    "'Mozilla/5.0 (Macintosh; Intel Mac OS X 10_15_5) AppleWebKit/605.1.15 (KHTML, like Gecko) Version/13.1.1 Safari/605.1.15',\n",
    "'Mozilla/5.0 (Windows NT 10.0; Win64; x64; rv:77.0) Gecko/20100101 Firefox/77.0',\n",
    "'Mozilla/5.0 (Macintosh; Intel Mac OS X 10_15_5) AppleWebKit/537.36 (KHTML, like Gecko) Chrome/83.0.4103.97 Safari/537.36',\n",
    "'Mozilla/5.0 (Macintosh; Intel Mac OS X 10.15; rv:77.0) Gecko/20100101 Firefox/77.0',\n",
    "'Mozilla/5.0 (Windows NT 10.0; Win64; x64) AppleWebKit/537.36 (KHTML, like Gecko) Chrome/83.0.4103.97 Safari/537.36',\n",
    "]\n",
    "#Pick a random user agent\n",
    "headers = {'User-Agent': random.choice(user_agent_list)}\n",
    "#headers[\"User-Agent\"] = random.choice(user_agent_list)\n",
    "wiki = requests.get(\n",
    "    'https://en.wikipedia.org/wiki/List_of_one-hit_wonders_in_the_United_States', headers=headers)\n",
    "print(headers)\n",
    "print(type(wiki), type(wiki.status_code))\n"
   ]
  },
  {
   "cell_type": "code",
   "execution_count": 25,
   "metadata": {},
   "outputs": [],
   "source": [
    "from bs4 import BeautifulSoup\n",
    "soup = BeautifulSoup(wiki.text, 'html.parser')\n"
   ]
  },
  {
   "cell_type": "code",
   "execution_count": 11,
   "metadata": {},
   "outputs": [],
   "source": [
    "import pandas as pd\n"
   ]
  },
  {
   "cell_type": "code",
   "execution_count": 26,
   "metadata": {},
   "outputs": [],
   "source": [
    "songhtml = soup.find_all('li')[14:580]\n",
    "songs = [dict(zip(['Artist', 'Song'], [eachItem.getText()\n",
    "              for eachItem in eachSong.find_all('a')[:2]])) for eachSong in songhtml]\n"
   ]
  },
  {
   "cell_type": "code",
   "execution_count": 13,
   "metadata": {},
   "outputs": [],
   "source": [
    "headers = {'User-Agent': random.choice(user_agent_list)}\n",
    "lyricSearch = requests.get(\n",
    "    f\"https://www.google.com/search?q={songs[35]['Artist']} {songs[35]['Song']} lyrics\", headers=headers)"
   ]
  },
  {
   "cell_type": "code",
   "execution_count": 14,
   "metadata": {},
   "outputs": [],
   "source": [
    "lyricSoup = BeautifulSoup(lyricSearch.text, 'html.parser')\n"
   ]
  },
  {
   "cell_type": "code",
   "execution_count": 15,
   "metadata": {},
   "outputs": [],
   "source": [
    "# a = ''.join([eachPart.getText() for eachPart in lyricSoup.find_all(\"div\", {\"class\": \"BNeawe tAd8D AP7Wnd\"})])\n"
   ]
  },
  {
   "cell_type": "code",
   "execution_count": 16,
   "metadata": {},
   "outputs": [],
   "source": [
    "songtest = songs[:10].copy()"
   ]
  },
  {
   "cell_type": "code",
   "execution_count": 17,
   "metadata": {},
   "outputs": [],
   "source": [
    "import time\n",
    "counter = 1\n",
    "for eachSong in songtest:\n",
    "    headers = {'User-Agent': random.choice(user_agent_list)}\n",
    "    lyricSearch = requests.get(\n",
    "    f\"https://www.google.com/search?q={eachSong['Artist']} {eachSong['Song']} lyrics\", headers=headers)\n",
    "    lyricSoup = BeautifulSoup(lyricSearch.text, 'html.parser')\n",
    "    \n",
    "    lyrics = lyricSoup.find(\"div\", {\"data-lyricid\": re.compile(\".*[Ll]yric.*\")})\n",
    "    if lyrics != None:\n",
    "        eachSong['Lyrics'] = re.sub(\"(\\w?[a-z?])([A-Z]\\w?)\",\"\\g<1>\\n\\g<2>\",lyrics.getText().split(\"Source\")[0])\n",
    "    # for i in range(3):\n",
    "    #     #print(i, len(lyricSoup.find_all(\"div\", {\"class\": \"kCrYT\"})[i].getText()))\n",
    "    #     #print(lyricSoup.find_all(\"div\", {\"class\": \"kCrYT\"})[i])\n",
    "    #     #eachSong['Lyrics'] = ''.join([eachPart.getText() for eachPart in lyricSoup.find_all(\"div\", {\"class\": \"BNeawe tAd8D AP7Wnd\"})][:-1])\n",
    "    #     potentialLyrics = lyricSoup.find_all(\"div\", {\"class\": \"kCrYT\"})[i].getText()\n",
    "    #     if len(potentialLyrics) > 300:\n",
    "    #         eachSong['Lyrics'] = potentialLyrics\n",
    "    #         break\n",
    "    #     elif i == 2:\n",
    "    #         potentialLinks = lyricSoup.find(\"div\", {\"class\": \"kCrYT\"}).find_all(\"a\", href = True)\n",
    "    #         foundLink = False\n",
    "    #         for eachLink in potentialLinks:\n",
    "    #             link = f\"http{eachLink.get('href').split('http')[-1].split('&')[0]}\"\n",
    "    #             if re.match('.*youtube.*', link) == None:\n",
    "    #                 eachSong['Lyrics'] = f'Lyrics not on Google, use : {link}'\n",
    "    #                 headers = {'User-Agent': random.choice(user_agent_list)}\n",
    "    #                 secondTry = requests.get(link, headers=headers)\n",
    "    #                 moreSoup = BeautifulSoup(secondTry.text, 'html.parser')\n",
    "    #                 eachSong['Lyrics'] += (f'\\n{moreSoup.find(\"div\", {\"class\": re.compile(\".*[Ll]yric.*\")})}')\n",
    "    #                 print(moreSoup.prettify())\n",
    "    #                 foundLink = True\n",
    "    #                 break\n",
    "    #             pass\n",
    "    #         if foundLink == False:\n",
    "    #             morePotentialLinks = lyricSoup.find_all(\"a\", href = True)\n",
    "    #             for additionalLinks in morePotentialLinks:\n",
    "    #                 link = f\"http{additionalLinks.get('href').split('http')[-1]}\"\n",
    "    #                 if (re.match('.*youtube.*', link) == None) and (re.match('.*search.*', link) == None) and (re.match('.*google.*', link) == None) and ((re.match('.*song.*', link) != None) or (re.match('.*lyric.*', link) != None)):\n",
    "    #                     eachSong['Lyrics'] = f'Lyrics not on Google, use : {link}'\n",
    "    #                     headers = {'User-Agent': random.choice(user_agent_list)}\n",
    "    #                     secondTry = requests.get(link, headers=headers)\n",
    "    #                     moreSoup = BeautifulSoup(secondTry.text, 'html.parser')\n",
    "    #                     eachSong['Lyrics'] += (f'\\n{moreSoup.find(\"div\", {\"class\": re.compile(\".*[Ll]yric.*\")}).getText()}')\n",
    "    #                     break\n",
    "    #                 pass\n",
    "    #             pass\n",
    "    #         pass\n",
    "    #     pass\n",
    "    time.sleep(.5)\n",
    "    counter += 1"
   ]
  },
  {
   "cell_type": "code",
   "execution_count": 18,
   "metadata": {},
   "outputs": [],
   "source": [
    "songswlyrics = [eachSong for eachSong in songtest if 'Lyrics' in eachSong.keys()]"
   ]
  },
  {
   "cell_type": "code",
   "execution_count": 19,
   "metadata": {},
   "outputs": [
    {
     "name": "stdout",
     "output_type": "stream",
     "text": [
      "[{'Artist': 'The Crows', 'Song': 'Gee', 'Lyrics': \"Do do-do do, do-do do, do-do  do-do-do\\nDo do-do do, do-do do, do-do  do-do-do\\nDo do-do do, do-do do, do-do  do-do-do do\\nLove that girl\\nOh Gee, my oh Gee, well o-o Gee\\nWhy I love that girl, love that girl\\nOh please, listen to me, hear-hear-hear my plea\\nWhy I love that girl\\nHold me, Baby, squeeze me\\nNever let me go\\nI'm not takin' chances\\nBecause I love her, I love her so\\nOh Gee, yes I love her, Yes I need her\\nWhy I love that girl, love that girl\\nHold me, Baby, squeeze me\\nNever let me go\\nI'm not takin' chances\\nBecause I love her,  I love her so\\nMy-my oh Gee, well o Gee, my-eye oh Gee\\nWhy I love that girl, love that girl\\nOh please, listen to me, hear-ear my plea\\nWhy I love that girl, love that girl\\nWhy I love that girl\"}, {'Artist': 'Penguins', 'Song': 'Earth Angel', 'Lyrics': \"Earth Angel, earth angel\\nWill you be mine?\\nMy darling dear, love you all the time\\nI'm just a fool, A fool in love with you\\nEarth Angel, earth angel\\nThe one I adore\\nLove you forever, and evermore\\nI'm just a fool, A fool in love with you\\nI fell for you and I knew the vision of  your love, loveliness\\nI hoped and I prayed that someday\\nI'll be the vision of your hap-happiness\\nOh oh Earth Angel, earth angel\\nPlease be mine\\nMy darling dear, love you all the time\\nI'm just a fool, A fool in love with you\\nI fell for you and I knew the vision of your loveliness\\nI hoped and prayed that someday\\nThat I'll be the vision of your happiness\\nEarth Angel, earth angel\\nPlease be mine\\nMy darling dear, love you all the time\\nI'm just a fool, A fool in love with you\"}, {'Artist': 'Thurston Harris', 'Song': 'Little Bitty Pretty One', 'Lyrics': \"Mmm-mmm-mmm-mmm-mmm-mmm-mmm-mm\\nMmm-mmm-mmm-mmm-mmm-mmm-mmm-mm\\nMmm-mmm-mmm-mmm-mmm-mmm-mmm-mm\\nMmm-mmm-mmm-mmm-mmm-mmm-mmm-mm\\nMmm-mmm-mmm-mmm-mmm-mmm-mmm-mm\\nMmm-mmm-mmm-mmm-mmm-mmm-mmm-mm\\nMmm-mmm-mmm-mmm-mmm-mmm-mmm-mm\\nMmm-mmm-mmm-mmm-mmm-mm\\nLittle bitty pretty one\\nCome on and talk-a to me\\nLovey dovey lovey one\\nCome sit down on my knee\\nAh-ah-ah-ah-ah-ah-ah-ah\\nAh-ah-ah-ah-ah-ah-ah-ah\\nAh-ah-ah-ah-ah-ah-ah-ah\\nAh-ah-ah-ah-ah\\nTell you a story\\nHappened long time ago\\nA-little bitty pretty one\\nI've been watchin' you grow\\nAh-ah-ah-ah-ah-ah-ah-ah\\nAh-ah-ah-ah-ah-ah-ah-ah\\nAh-ah-ah-ah-ah-ah-ah-ah\\nAh-ah-ah-ah-ah\\nLittle bitty pretty one\\nCome on and talk-a to me\\nLovey dovey lovey one\\nCome sit down on my knee\\nMmm-mmm-mmm-mmm-mmm-mmm-mmm-mm\\nMmm-mmm-mmm-mmm-mmm-mmm-mmm-mm\\nMmm-mmm-mmm-mmm-mmm-mmm-mmm-mm\\nMmm-mmm-mmm-mmm-mmm-mm\\nMmm-mmm-mmm-mmm-mmm-mmm-mmm-mm\\nMmm-mmm-mmm-mmm-mmm-mmm-mmm-mm\\nMmm-mmm-mmm-mmm-mmm-mmm-mmm-mm\\nMmm-mmm-mmm-mmm-mmm-mm\\nAh-ah-ah-ah-ah-ah-ah-ah\\nAh-ah-ah-ah-ah-ah-ah-ah\\nAh-ah-ah-ah-ah-ah-ah-ah\\nAh-ah-ah-ah-ah\\nAh-ah-ah-ah-ah\\nAh-ah-ah-ah-ah\\nAh-ah-ah-ah-ah\\nAh-ah-ah-ah-ah\\nAh-ah-ah-ah-ah\"}]\n"
     ]
    }
   ],
   "source": [
    "print(songswlyrics)"
   ]
  },
  {
   "cell_type": "code",
   "execution_count": 20,
   "metadata": {},
   "outputs": [],
   "source": [
    "import json"
   ]
  },
  {
   "cell_type": "code",
   "execution_count": 21,
   "metadata": {},
   "outputs": [],
   "source": [
    "with open(\"mydata.json\", \"w\") as final:\n",
    "   json.dump(songswlyrics, final, indent=2)"
   ]
  },
  {
   "cell_type": "code",
   "execution_count": 23,
   "metadata": {},
   "outputs": [
    {
     "ename": "ModuleNotFoundError",
     "evalue": "No module named 'datasets'",
     "output_type": "error",
     "traceback": [
      "\u001b[0;31m---------------------------------------------------------------------------\u001b[0m",
      "\u001b[0;31mModuleNotFoundError\u001b[0m                       Traceback (most recent call last)",
      "Cell \u001b[0;32mIn [23], line 1\u001b[0m\n\u001b[0;32m----> 1\u001b[0m \u001b[39mfrom\u001b[39;00m \u001b[39mdatasets\u001b[39;00m \u001b[39mimport\u001b[39;00m Dataset\n",
      "\u001b[0;31mModuleNotFoundError\u001b[0m: No module named 'datasets'"
     ]
    }
   ],
   "source": [
    "from datasets import Dataset"
   ]
  },
  {
   "cell_type": "code",
   "execution_count": null,
   "metadata": {},
   "outputs": [],
   "source": [
    "dataset = Dataset.from_list(my_list)"
   ]
  }
 ],
 "metadata": {
  "kernelspec": {
   "display_name": "Python 3.10.4 64-bit",
   "language": "python",
   "name": "python3"
  },
  "language_info": {
   "codemirror_mode": {
    "name": "ipython",
    "version": 3
   },
   "file_extension": ".py",
   "mimetype": "text/x-python",
   "name": "python",
   "nbconvert_exporter": "python",
   "pygments_lexer": "ipython3",
   "version": "3.10.4"
  },
  "orig_nbformat": 4,
  "vscode": {
   "interpreter": {
    "hash": "3ad933181bd8a04b432d3370b9dc3b0662ad032c4dfaa4e4f1596c548f763858"
   }
  }
 },
 "nbformat": 4,
 "nbformat_minor": 2
}
