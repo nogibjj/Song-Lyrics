{
 "cells": [
  {
   "cell_type": "code",
   "execution_count": 1,
   "metadata": {},
   "outputs": [],
   "source": [
    "import requests"
   ]
  },
  {
   "cell_type": "code",
   "execution_count": 2,
   "metadata": {},
   "outputs": [],
   "source": [
    "headers = {'user-agent': 'Mozilla/5.0 (Windows NT 10.0; Win64; x64) AppleWebKit/537.36 (KHTML, like Gecko) Chrome/55.0.2883.87 Safari/537.36'}\n",
    "wiki = requests.get('https://en.wikipedia.org/wiki/List_of_one-hit_wonders_in_the_United_States', headers=headers)"
   ]
  },
  {
   "cell_type": "code",
   "execution_count": 3,
   "metadata": {},
   "outputs": [],
   "source": [
    "from bs4 import BeautifulSoup\n",
    "soup = BeautifulSoup(wiki.text, 'html.parser')"
   ]
  },
  {
   "cell_type": "code",
   "execution_count": 4,
   "metadata": {},
   "outputs": [],
   "source": [
    "import pandas as pd"
   ]
  },
  {
   "cell_type": "code",
   "execution_count": 5,
   "metadata": {},
   "outputs": [],
   "source": [
    "songhtml = soup.find_all('li')[14:580]\n",
    "songs = [dict(zip(['Artist', 'Song'], [eachItem.getText() for eachItem in eachSong.find_all('a')[:2]])) for eachSong in songhtml]"
   ]
  },
  {
   "cell_type": "code",
   "execution_count": 6,
   "metadata": {},
   "outputs": [],
   "source": [
    "lyricSearch = requests.get(f\"https://www.google.com/search?q={songs[35]['Artist']} {songs[35]['Song']} lyrics\", headers=headers)"
   ]
  },
  {
   "cell_type": "code",
   "execution_count": 7,
   "metadata": {},
   "outputs": [],
   "source": [
    "lyricSoup = BeautifulSoup(lyricSearch.text, 'html.parser')"
   ]
  },
  {
   "cell_type": "code",
   "execution_count": 8,
   "metadata": {},
   "outputs": [
    {
     "data": {
      "text/plain": [
       "[<div class=\"BNeawe tAd8D AP7Wnd\"><div><div class=\"BNeawe tAd8D AP7Wnd\">Teen angel, teen angel, teen angel, ooh\n",
       " That fateful night the car was stalled upon the railroad track\n",
       " I pulled you out and we were safe, but you went running back\n",
       " \n",
       " Teen angel, can you hear me?\n",
       " Teen angel, can you see me?\n",
       " Are you somewhere up above?\n",
       " And I am still your own true love?\n",
       " </div></div></div>,\n",
       " <div class=\"BNeawe tAd8D AP7Wnd\">Teen angel, teen angel, teen angel, ooh\n",
       " That fateful night the car was stalled upon the railroad track\n",
       " I pulled you out and we were safe, but you went running back\n",
       " \n",
       " Teen angel, can you hear me?\n",
       " Teen angel, can you see me?\n",
       " Are you somewhere up above?\n",
       " And I am still your own true love?\n",
       " </div>,\n",
       " <div class=\"BNeawe tAd8D AP7Wnd\"><div><div class=\"BNeawe tAd8D AP7Wnd\">Teen angel, teen angel, teen angel, ooh\n",
       " That fateful night the car was stalled upon the railroad track\n",
       " I pulled you out and we were safe, but you went running back\n",
       " \n",
       " Teen angel, can you hear me?\n",
       " Teen angel, can you see me?\n",
       " Are you somewhere up above?\n",
       " And I am still your own true love?\n",
       " \n",
       " What was it you were looking for that took your life that night?\n",
       " They said they found my high school ring clutched in your fingers tight\n",
       " \n",
       " Teen angel, can you hear me?\n",
       " Teen angel, can you see me?\n",
       " Are you somewhere up above?\n",
       " And I am still your own true love?\n",
       " \n",
       " Just sweet sixteen, and now you're gone\n",
       " They've taken you away\n",
       " I'll never kiss your lips again\n",
       " They buried you today\n",
       " \n",
       " Teen angel, can you hear me?\n",
       " Teen angel, can you see me?\n",
       " Are you somewhere up above?\n",
       " And I am still your own true love?\n",
       " \n",
       " Teen angel, teen angel, answer me, please</div></div></div>,\n",
       " <div class=\"BNeawe tAd8D AP7Wnd\">Teen angel, teen angel, teen angel, ooh\n",
       " That fateful night the car was stalled upon the railroad track\n",
       " I pulled you out and we were safe, but you went running back\n",
       " \n",
       " Teen angel, can you hear me?\n",
       " Teen angel, can you see me?\n",
       " Are you somewhere up above?\n",
       " And I am still your own true love?\n",
       " \n",
       " What was it you were looking for that took your life that night?\n",
       " They said they found my high school ring clutched in your fingers tight\n",
       " \n",
       " Teen angel, can you hear me?\n",
       " Teen angel, can you see me?\n",
       " Are you somewhere up above?\n",
       " And I am still your own true love?\n",
       " \n",
       " Just sweet sixteen, and now you're gone\n",
       " They've taken you away\n",
       " I'll never kiss your lips again\n",
       " They buried you today\n",
       " \n",
       " Teen angel, can you hear me?\n",
       " Teen angel, can you see me?\n",
       " Are you somewhere up above?\n",
       " And I am still your own true love?\n",
       " \n",
       " Teen angel, teen angel, answer me, please</div>,\n",
       " <div class=\"BNeawe tAd8D AP7Wnd\">https://www.youtube.com/watch?v=wuE5j9ijeS4</div>]"
      ]
     },
     "execution_count": 8,
     "metadata": {},
     "output_type": "execute_result"
    }
   ],
   "source": [
    "lyricSoup.find_all(\"div\", {\"class\": \"BNeawe tAd8D AP7Wnd\"})"
   ]
  },
  {
   "cell_type": "code",
   "execution_count": null,
   "metadata": {},
   "outputs": [],
   "source": []
  }
 ],
 "metadata": {
  "kernelspec": {
   "display_name": "Python 3.10.4 64-bit",
   "language": "python",
   "name": "python3"
  },
  "language_info": {
   "codemirror_mode": {
    "name": "ipython",
    "version": 3
   },
   "file_extension": ".py",
   "mimetype": "text/x-python",
   "name": "python",
   "nbconvert_exporter": "python",
   "pygments_lexer": "ipython3",
   "version": "3.10.4"
  },
  "orig_nbformat": 4,
  "vscode": {
   "interpreter": {
    "hash": "3ad933181bd8a04b432d3370b9dc3b0662ad032c4dfaa4e4f1596c548f763858"
   }
  }
 },
 "nbformat": 4,
 "nbformat_minor": 2
}
